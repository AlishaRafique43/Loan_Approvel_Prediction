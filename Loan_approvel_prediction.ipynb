{
 "cells": [
  {
   "cell_type": "code",
   "execution_count": 4,
   "id": "92d6bee9-53a5-4a3e-be44-0f0c1fb031f9",
   "metadata": {},
   "outputs": [],
   "source": [
    "import pandas as pd\n",
    "import numpy as np\n",
    "from sklearn.model_selection import train_test_split\n",
    "from sklearn.preprocessing import LabelEncoder\n",
    "from sklearn.linear_model import LogisticRegression\n",
    "from sklearn.tree import DecisionTreeClassifier\n",
    "from sklearn.metrics import classification_report, confusion_matrix\n",
    "from imblearn.over_sampling import SMOTE\n"
   ]
  },
  {
   "cell_type": "code",
   "execution_count": 5,
   "id": "7bd13d9a-1c0a-410a-9e38-328d32d68158",
   "metadata": {
    "scrolled": true
   },
   "outputs": [
    {
     "name": "stdout",
     "output_type": "stream",
     "text": [
      "                                                Text  Income  Credit_Score  \\\n",
      "0  I need a loan to pay for an international vaca...   26556           581   \n",
      "1  I want to make home improvements like installi...  197392           389   \n",
      "2  I need a loan for home renovation, including a...   44561           523   \n",
      "3  I need funds to buy new furniture and applianc...  190363           729   \n",
      "4           I need a loan to start a small business.   61853           732   \n",
      "\n",
      "   Loan_Amount  DTI_Ratio Employment_Status  Approval  \n",
      "0         8314      79.26          employed  Rejected  \n",
      "1       111604      22.14          employed  Rejected  \n",
      "2        34118      45.44          employed  Rejected  \n",
      "3       118757      10.22        unemployed  Rejected  \n",
      "4        19210      44.13          employed  Approved  \n",
      "<class 'pandas.core.frame.DataFrame'>\n",
      "RangeIndex: 24000 entries, 0 to 23999\n",
      "Data columns (total 7 columns):\n",
      " #   Column             Non-Null Count  Dtype  \n",
      "---  ------             --------------  -----  \n",
      " 0   Text               24000 non-null  object \n",
      " 1   Income             24000 non-null  int64  \n",
      " 2   Credit_Score       24000 non-null  int64  \n",
      " 3   Loan_Amount        24000 non-null  int64  \n",
      " 4   DTI_Ratio          24000 non-null  float64\n",
      " 5   Employment_Status  24000 non-null  object \n",
      " 6   Approval           24000 non-null  object \n",
      "dtypes: float64(1), int64(3), object(3)\n",
      "memory usage: 1.3+ MB\n",
      "None\n"
     ]
    }
   ],
   "source": [
    "df = pd.read_csv(\"loan_data.csv\")\n",
    "print(df.head())\n",
    "print(df.info())\n"
   ]
  },
  {
   "cell_type": "code",
   "execution_count": 6,
   "id": "f0df75d3-b72c-46e8-817b-28308887703f",
   "metadata": {
    "jupyter": {
     "source_hidden": true
    }
   },
   "outputs": [
    {
     "name": "stdout",
     "output_type": "stream",
     "text": [
      "Text                 0\n",
      "Income               0\n",
      "Credit_Score         0\n",
      "Loan_Amount          0\n",
      "DTI_Ratio            0\n",
      "Employment_Status    0\n",
      "Approval             0\n",
      "dtype: int64\n"
     ]
    }
   ],
   "source": [
    "print(df.isnull().sum())\n",
    "df = df.dropna()   # simple option\n"
   ]
  },
  {
   "cell_type": "code",
   "execution_count": 7,
   "id": "72bfa10a-bd31-4ac5-b9d6-34a1e1ee0705",
   "metadata": {},
   "outputs": [],
   "source": [
    "encoder = LabelEncoder()\n",
    "for col in df.columns:\n",
    "    if df[col].dtype == 'object':\n",
    "        df[col] = encoder.fit_transform(df[col])\n"
   ]
  },
  {
   "cell_type": "code",
   "execution_count": 11,
   "id": "b51b30e2-a222-4ef1-9d2f-601ce6f88128",
   "metadata": {
    "scrolled": true
   },
   "outputs": [],
   "source": [
    "X = df.drop('Approval', axis=1)  # Features\n",
    "y = df['Approval']               # Target (Approved/Not Approved)\n",
    "\n",
    "X_train, X_test, y_train, y_test = train_test_split(X, y, test_size=0.2, random_state=42)\n"
   ]
  },
  {
   "cell_type": "code",
   "execution_count": 9,
   "id": "79507cb3-8698-4626-8906-66551846f9b4",
   "metadata": {
    "scrolled": true
   },
   "outputs": [
    {
     "name": "stdout",
     "output_type": "stream",
     "text": [
      "Index(['Text', 'Income', 'Credit_Score', 'Loan_Amount', 'DTI_Ratio',\n",
      "       'Employment_Status', 'Approval'],\n",
      "      dtype='object')\n"
     ]
    }
   ],
   "source": [
    "print(df.columns)\n"
   ]
  },
  {
   "cell_type": "code",
   "execution_count": 12,
   "id": "25e4325f-799f-4e34-af57-10ea841b8940",
   "metadata": {},
   "outputs": [
    {
     "name": "stdout",
     "output_type": "stream",
     "text": [
      "Before SMOTE: Approval\n",
      "1    16020\n",
      "0     3180\n",
      "Name: count, dtype: int64\n",
      "After SMOTE: Approval\n",
      "1    16020\n",
      "0    16020\n",
      "Name: count, dtype: int64\n"
     ]
    }
   ],
   "source": [
    "smote = SMOTE(random_state=42)\n",
    "X_train_res, y_train_res = smote.fit_resample(X_train, y_train)\n",
    "print(\"Before SMOTE:\", y_train.value_counts())\n",
    "print(\"After SMOTE:\", y_train_res.value_counts())\n"
   ]
  },
  {
   "cell_type": "code",
   "execution_count": 13,
   "id": "6183b2d9-f268-4eeb-aafd-016426e4bf54",
   "metadata": {},
   "outputs": [],
   "source": [
    "log_reg = LogisticRegression(max_iter=1000)\n",
    "log_reg.fit(X_train_res, y_train_res)\n",
    "y_pred_log = log_reg.predict(X_test)\n"
   ]
  },
  {
   "cell_type": "code",
   "execution_count": 14,
   "id": "80a919a8-3a72-419a-b1a2-814ead1ec464",
   "metadata": {},
   "outputs": [],
   "source": [
    "dt = DecisionTreeClassifier(random_state=42)\n",
    "dt.fit(X_train_res, y_train_res)\n",
    "y_pred_dt = dt.predict(X_test)\n"
   ]
  },
  {
   "cell_type": "code",
   "execution_count": 15,
   "id": "f9a0a1e0-6a2e-4a67-9362-8d6c9d569bdf",
   "metadata": {},
   "outputs": [
    {
     "name": "stdout",
     "output_type": "stream",
     "text": [
      "Logistic Regression Report:\n",
      "               precision    recall  f1-score   support\n",
      "\n",
      "           0       0.65      0.94      0.77       753\n",
      "           1       0.99      0.91      0.95      4047\n",
      "\n",
      "    accuracy                           0.91      4800\n",
      "   macro avg       0.82      0.92      0.86      4800\n",
      "weighted avg       0.93      0.91      0.92      4800\n",
      "\n",
      "Decision Tree Report:\n",
      "               precision    recall  f1-score   support\n",
      "\n",
      "           0       0.99      0.99      0.99       753\n",
      "           1       1.00      1.00      1.00      4047\n",
      "\n",
      "    accuracy                           1.00      4800\n",
      "   macro avg       0.99      0.99      0.99      4800\n",
      "weighted avg       1.00      1.00      1.00      4800\n",
      "\n"
     ]
    }
   ],
   "source": [
    "print(\"Logistic Regression Report:\\n\", classification_report(y_test, y_pred_log))\n",
    "print(\"Decision Tree Report:\\n\", classification_report(y_test, y_pred_dt))\n"
   ]
  },
  {
   "cell_type": "code",
   "execution_count": 16,
   "id": "32a8a654-5108-4868-bc2b-7f58aa62678b",
   "metadata": {},
   "outputs": [
    {
     "name": "stdout",
     "output_type": "stream",
     "text": [
      "Logistic Regression Confusion Matrix:\n",
      " [[ 707   46]\n",
      " [ 379 3668]]\n",
      "Decision Tree Confusion Matrix:\n",
      " [[ 744    9]\n",
      " [  11 4036]]\n"
     ]
    }
   ],
   "source": [
    "print(\"Logistic Regression Confusion Matrix:\\n\", confusion_matrix(y_test, y_pred_log))\n",
    "print(\"Decision Tree Confusion Matrix:\\n\", confusion_matrix(y_test, y_pred_dt))\n"
   ]
  },
  {
   "cell_type": "code",
   "execution_count": 17,
   "id": "7d98f63f-f0ac-4fb4-89c5-e083df57543b",
   "metadata": {},
   "outputs": [
    {
     "data": {
      "text/html": [
       "<div>\n",
       "<style scoped>\n",
       "    .dataframe tbody tr th:only-of-type {\n",
       "        vertical-align: middle;\n",
       "    }\n",
       "\n",
       "    .dataframe tbody tr th {\n",
       "        vertical-align: top;\n",
       "    }\n",
       "\n",
       "    .dataframe thead th {\n",
       "        text-align: right;\n",
       "    }\n",
       "</style>\n",
       "<table border=\"1\" class=\"dataframe\">\n",
       "  <thead>\n",
       "    <tr style=\"text-align: right;\">\n",
       "      <th></th>\n",
       "      <th>Text</th>\n",
       "      <th>Income</th>\n",
       "      <th>Credit_Score</th>\n",
       "      <th>Loan_Amount</th>\n",
       "      <th>DTI_Ratio</th>\n",
       "      <th>Employment_Status</th>\n",
       "      <th>Approval</th>\n",
       "    </tr>\n",
       "  </thead>\n",
       "  <tbody>\n",
       "    <tr>\n",
       "      <th>0</th>\n",
       "      <td>14</td>\n",
       "      <td>26556</td>\n",
       "      <td>581</td>\n",
       "      <td>8314</td>\n",
       "      <td>79.26</td>\n",
       "      <td>0</td>\n",
       "      <td>1</td>\n",
       "    </tr>\n",
       "    <tr>\n",
       "      <th>1</th>\n",
       "      <td>64</td>\n",
       "      <td>197392</td>\n",
       "      <td>389</td>\n",
       "      <td>111604</td>\n",
       "      <td>22.14</td>\n",
       "      <td>0</td>\n",
       "      <td>1</td>\n",
       "    </tr>\n",
       "    <tr>\n",
       "      <th>2</th>\n",
       "      <td>0</td>\n",
       "      <td>44561</td>\n",
       "      <td>523</td>\n",
       "      <td>34118</td>\n",
       "      <td>45.44</td>\n",
       "      <td>0</td>\n",
       "      <td>1</td>\n",
       "    </tr>\n",
       "    <tr>\n",
       "      <th>3</th>\n",
       "      <td>35</td>\n",
       "      <td>190363</td>\n",
       "      <td>729</td>\n",
       "      <td>118757</td>\n",
       "      <td>10.22</td>\n",
       "      <td>1</td>\n",
       "      <td>1</td>\n",
       "    </tr>\n",
       "    <tr>\n",
       "      <th>4</th>\n",
       "      <td>20</td>\n",
       "      <td>61853</td>\n",
       "      <td>732</td>\n",
       "      <td>19210</td>\n",
       "      <td>44.13</td>\n",
       "      <td>0</td>\n",
       "      <td>0</td>\n",
       "    </tr>\n",
       "  </tbody>\n",
       "</table>\n",
       "</div>"
      ],
      "text/plain": [
       "   Text  Income  Credit_Score  Loan_Amount  DTI_Ratio  Employment_Status  \\\n",
       "0    14   26556           581         8314      79.26                  0   \n",
       "1    64  197392           389       111604      22.14                  0   \n",
       "2     0   44561           523        34118      45.44                  0   \n",
       "3    35  190363           729       118757      10.22                  1   \n",
       "4    20   61853           732        19210      44.13                  0   \n",
       "\n",
       "   Approval  \n",
       "0         1  \n",
       "1         1  \n",
       "2         1  \n",
       "3         1  \n",
       "4         0  "
      ]
     },
     "execution_count": 17,
     "metadata": {},
     "output_type": "execute_result"
    }
   ],
   "source": [
    "df.head()"
   ]
  },
  {
   "cell_type": "code",
   "execution_count": 21,
   "id": "27e2d447-f830-40a2-b609-fbbee43547b8",
   "metadata": {},
   "outputs": [],
   "source": [
    "# Example with Logistic Regression\n",
    "from sklearn.linear_model import LogisticRegression\n",
    "from sklearn.model_selection import train_test_split\n",
    "\n",
    "# Split the data\n",
    "X_train, X_test, y_train, y_test = train_test_split(X, y, test_size=0.2, random_state=42)\n",
    "\n",
    "# Define the model\n",
    "model = LogisticRegression(max_iter=1000)  \n",
    "\n",
    "# Train the model\n",
    "model.fit(X_train, y_train)\n",
    "\n",
    "# Make predictions\n",
    "y_pred = model.predict(X_test)\n"
   ]
  },
  {
   "cell_type": "code",
   "execution_count": 22,
   "id": "76a78f68-c330-4eca-a8ca-6d5d506832f2",
   "metadata": {},
   "outputs": [],
   "source": [
    "from sklearn.tree import DecisionTreeClassifier\n",
    "\n",
    "model = DecisionTreeClassifier(random_state=42)\n"
   ]
  },
  {
   "cell_type": "code",
   "execution_count": 23,
   "id": "f353dee5-1de2-4aa1-a0cd-756c30e9faf5",
   "metadata": {},
   "outputs": [
    {
     "name": "stdout",
     "output_type": "stream",
     "text": [
      "Confusion Matrix:\n",
      " [[ 585  168]\n",
      " [ 173 3874]]\n",
      "\n",
      "Classification Report:\n",
      "               precision    recall  f1-score   support\n",
      "\n",
      "           0       0.77      0.78      0.77       753\n",
      "           1       0.96      0.96      0.96      4047\n",
      "\n",
      "    accuracy                           0.93      4800\n",
      "   macro avg       0.87      0.87      0.87      4800\n",
      "weighted avg       0.93      0.93      0.93      4800\n",
      "\n"
     ]
    }
   ],
   "source": [
    "from sklearn.metrics import classification_report, confusion_matrix\n",
    "\n",
    "print(\"Confusion Matrix:\\n\", confusion_matrix(y_test, y_pred))\n",
    "print(\"\\nClassification Report:\\n\", classification_report(y_test, y_pred))\n"
   ]
  },
  {
   "cell_type": "code",
   "execution_count": 24,
   "id": "5cffdd28-a38c-40d9-9c17-bb50544b5259",
   "metadata": {},
   "outputs": [
    {
     "name": "stdout",
     "output_type": "stream",
     "text": [
      "Accuracy: 0.9289583333333333\n"
     ]
    }
   ],
   "source": [
    "from sklearn.metrics import accuracy_score\n",
    "\n",
    "print(\"Accuracy:\", accuracy_score(y_test, y_pred))\n"
   ]
  },
  {
   "cell_type": "code",
   "execution_count": 25,
   "id": "6ac5c226-22e1-4253-855d-3d6e63ea50ce",
   "metadata": {},
   "outputs": [
    {
     "name": "stdout",
     "output_type": "stream",
     "text": [
      "              precision    recall  f1-score   support\n",
      "\n",
      "           0       0.77      0.78      0.77       753\n",
      "           1       0.96      0.96      0.96      4047\n",
      "\n",
      "    accuracy                           0.93      4800\n",
      "   macro avg       0.87      0.87      0.87      4800\n",
      "weighted avg       0.93      0.93      0.93      4800\n",
      "\n"
     ]
    }
   ],
   "source": [
    "from sklearn.metrics import classification_report\n",
    "\n",
    "print(classification_report(y_test, y_pred))\n"
   ]
  },
  {
   "cell_type": "code",
   "execution_count": 26,
   "id": "13b87770-1bbf-4a4c-91d3-4db5c91e75e8",
   "metadata": {},
   "outputs": [
    {
     "data": {
      "image/png": "[encoded data removed]",
      "text/plain": [
       "<Figure size 640x480 with 2 Axes>"
      ]
     },
     "metadata": {},
     "output_type": "display_data"
    }
   ],
   "source": [
    "from sklearn.metrics import confusion_matrix\n",
    "import seaborn as sns\n",
    "import matplotlib.pyplot as plt\n",
    "\n",
    "cm = confusion_matrix(y_test, y_pred)\n",
    "sns.heatmap(cm, annot=True, fmt='d', cmap='Blues')\n",
    "plt.xlabel(\"Predicted\")\n",
    "plt.ylabel(\"Actual\")\n",
    "plt.show()\n"
   ]
  },
  {
   "cell_type": "code",
   "execution_count": 27,
   "id": "1b3d3be5-d677-4d69-95be-be5c891d4aa2",
   "metadata": {},
   "outputs": [
    {
     "name": "stdout",
     "output_type": "stream",
     "text": [
      "Logistic Regression Report:\n",
      "              precision    recall  f1-score   support\n",
      "\n",
      "           0       0.77      0.78      0.77       753\n",
      "           1       0.96      0.96      0.96      4047\n",
      "\n",
      "    accuracy                           0.93      4800\n",
      "   macro avg       0.87      0.87      0.87      4800\n",
      "weighted avg       0.93      0.93      0.93      4800\n",
      "\n",
      "Decision Tree Report:\n",
      "              precision    recall  f1-score   support\n",
      "\n",
      "           0       0.98      0.99      0.99       753\n",
      "           1       1.00      1.00      1.00      4047\n",
      "\n",
      "    accuracy                           1.00      4800\n",
      "   macro avg       0.99      0.99      0.99      4800\n",
      "weighted avg       1.00      1.00      1.00      4800\n",
      "\n"
     ]
    }
   ],
   "source": [
    "from sklearn.linear_model import LogisticRegression\n",
    "from sklearn.tree import DecisionTreeClassifier\n",
    "\n",
    "# Logistic Regression\n",
    "log_model = LogisticRegression(max_iter=1000)\n",
    "log_model.fit(X_train, y_train)\n",
    "log_pred = log_model.predict(X_test)\n",
    "\n",
    "print(\"Logistic Regression Report:\")\n",
    "print(classification_report(y_test, log_pred))\n",
    "\n",
    "# Decision Tree\n",
    "tree_model = DecisionTreeClassifier()\n",
    "tree_model.fit(X_train, y_train)\n",
    "tree_pred = tree_model.predict(X_test)\n",
    "\n",
    "print(\"Decision Tree Report:\")\n",
    "print(classification_report(y_test, tree_pred))\n"
   ]
  },
  {
   "cell_type": "code",
   "execution_count": 32,
   "id": "11b47424-dd8c-41e4-92a9-013b8c0d30d7",
   "metadata": {},
   "outputs": [
    {
     "name": "stdout",
     "output_type": "stream",
     "text": [
      "Text                  object\n",
      "Income                 int64\n",
      "Credit_Score           int64\n",
      "Loan_Amount            int64\n",
      "DTI_Ratio            float64\n",
      "Employment_Status     object\n",
      "dtype: object\n"
     ]
    }
   ],
   "source": [
    "print(X.dtypes)\n"
   ]
  },
  {
   "cell_type": "code",
   "execution_count": 34,
   "id": "fd292b89-1069-473f-b3bc-10ff6055a88d",
   "metadata": {},
   "outputs": [
    {
     "name": "stdout",
     "output_type": "stream",
     "text": [
      "Shape after encoding: (24000, 6)\n"
     ]
    }
   ],
   "source": [
    "# Separate features and target\n",
    "X = df.drop(\"Approval\", axis=1)  \n",
    "y = df[\"Approval\"]                # Target variable\n",
    "\n",
    "# One-hot encode all categorical variables automatically\n",
    "X = pd.get_dummies(X, drop_first=True)\n",
    "\n",
    "print(\"Shape after encoding:\", X.shape)\n"
   ]
  },
  {
   "cell_type": "code",
   "execution_count": 35,
   "id": "7f75dc75-a194-46ca-be8e-ca2fcfa07a34",
   "metadata": {},
   "outputs": [
    {
     "name": "stdout",
     "output_type": "stream",
     "text": [
      "Training done ✅\n"
     ]
    }
   ],
   "source": [
    "from sklearn.model_selection import train_test_split\n",
    "from sklearn.tree import DecisionTreeClassifier\n",
    "\n",
    "X_train, X_test, y_train, y_test = train_test_split(X, y, test_size=0.2, random_state=42)\n",
    "\n",
    "model = DecisionTreeClassifier()\n",
    "model.fit(X_train, y_train)\n",
    "\n",
    "print(\"Training done ✅\")\n"
   ]
  },
  {
   "cell_type": "code",
   "execution_count": 36,
   "id": "99b300ec-4910-418c-8201-5885cfd4526e",
   "metadata": {},
   "outputs": [
    {
     "name": "stdout",
     "output_type": "stream",
     "text": [
      "Prediction: [1]\n"
     ]
    },
    {
     "name": "stderr",
     "output_type": "stream",
     "text": [
      "C:\\Users\\aaa\\anaconda3\\Lib\\site-packages\\sklearn\\utils\\validation.py:2739: UserWarning: X does not have valid feature names, but DecisionTreeClassifier was fitted with feature names\n",
      "  warnings.warn(\n"
     ]
    }
   ],
   "source": [
    "\n",
    "sample = X.iloc[0].values.reshape(1, -1)\n",
    "print(\"Prediction:\", model.predict(sample))\n"
   ]
  },
  {
   "cell_type": "code",
   "execution_count": 37,
   "id": "d9b06309-6d38-46a5-a4dc-f76099e7d759",
   "metadata": {},
   "outputs": [
    {
     "data": {
      "image/png": "[encoded data removed]",
      "text/plain": [
       "<Figure size 800x600 with 2 Axes>"
      ]
     },
     "metadata": {},
     "output_type": "display_data"
    }
   ],
   "source": [
    "# Import necessary libraries\n",
    "import matplotlib.pyplot as plt\n",
    "import seaborn as sns\n",
    "from sklearn.metrics import confusion_matrix\n",
    "\n",
    "# Your model's results\n",
    "y_true = [0]*753 + [1]*4047 # Actual values: 753 Rejected, 4047 Approved\n",
    "y_pred = [0]*744 + [1]*9 + [0]*11 + [1]*4036 # Predictions from the confusion matrix\n",
    "\n",
    "# Calculate the confusion matrix\n",
    "cm = confusion_matrix(y_true, y_pred)\n",
    "\n",
    "# Create a beautiful visual plot\n",
    "plt.figure(figsize=(8, 6))\n",
    "sns.heatmap(cm, annot=True, fmt='d', cmap='Blues', \n",
    "            xticklabels=['Predicted Rejected', 'Predicted Approved'],\n",
    "            yticklabels=['Actual Rejected', 'Actual Approved'])\n",
    "plt.title('Confusion Matrix - Decision Tree Model', fontsize=14, fontweight='bold')\n",
    "plt.ylabel('Actual Label', fontweight='bold')\n",
    "plt.xlabel('Predicted Label', fontweight='bold')\n",
    "plt.tight_layout()\n",
    "plt.savefig('confusion_matrix.png', dpi=300, bbox_inches='tight') # Save as high-resolution image\n",
    "plt.show()"
   ]
  },
  {
   "cell_type": "code",
   "execution_count": 38,
   "id": "9e5e44d7-c46b-4da7-8b20-9e81b31620b7",
   "metadata": {},
   "outputs": [
    {
     "data": {
      "image/png": "[encoded data removed]",
      "text/plain": [
       "<Figure size 1000x600 with 1 Axes>"
      ]
     },
     "metadata": {},
     "output_type": "display_data"
    }
   ],
   "source": [
    "# Get feature importances from your trained model\n",
    "feature_importance = model.feature_importances_\n",
    "\n",
    "# Create feature names (adjust based on your actual feature names after encoding)\n",
    "# These should match the order of features in your training data\n",
    "feature_names = ['Credit_Score', 'Income', 'Loan_Amount', 'DTI_Ratio', \n",
    "                 'Employment_Status_Encoded', 'Text_Encoded']  # Update with your actual feature names\n",
    "\n",
    "# Create a DataFrame for easy plotting\n",
    "importance_df = pd.DataFrame({\n",
    "    'Feature': feature_names,\n",
    "    'Importance': feature_importance\n",
    "}).sort_values('Importance', ascending=True)\n",
    "\n",
    "# Create the plot\n",
    "plt.figure(figsize=(10, 6))\n",
    "plt.barh(importance_df['Feature'], importance_df['Importance'], color='skyblue')\n",
    "plt.xlabel('Importance Score', fontweight='bold')\n",
    "plt.title('Feature Importance - Decision Tree Model', fontsize=14, fontweight='bold')\n",
    "plt.grid(axis='x', alpha=0.3)\n",
    "plt.tight_layout()\n",
    "plt.savefig('feature_importance.png', dpi=300, bbox_inches='tight') # Save as high-resolution image\n",
    "plt.show()"
   ]
  },
  {
   "cell_type": "code",
   "execution_count": null,
   "id": "55c157df-6628-4f91-8b69-29b1e61c122e",
   "metadata": {},
   "outputs": [],
   "source": []
  }
 ],
 "metadata": {
  "kernelspec": {
   "display_name": "Python [conda env:base] *",
   "language": "python",
   "name": "conda-base-py"
  },
  "language_info": {
   "codemirror_mode": {
    "name": "ipython",
    "version": 3
   },
   "file_extension": ".py",
   "mimetype": "text/x-python",
   "name": "python",
   "nbconvert_exporter": "python",
   "pygments_lexer": "ipython3",
   "version": "3.13.5"
  }
 },
 "nbformat": 4,
 "nbformat_minor": 5
}
